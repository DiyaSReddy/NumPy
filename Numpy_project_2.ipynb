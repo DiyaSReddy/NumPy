{
  "nbformat": 4,
  "nbformat_minor": 0,
  "metadata": {
    "colab": {
      "provenance": [],
      "authorship_tag": "ABX9TyOnewzMKXzIs/oDimAA2lld",
      "include_colab_link": true
    },
    "kernelspec": {
      "name": "python3",
      "display_name": "Python 3"
    },
    "language_info": {
      "name": "python"
    }
  },
  "cells": [
    {
      "cell_type": "markdown",
      "metadata": {
        "id": "view-in-github",
        "colab_type": "text"
      },
      "source": [
        "<a href=\"https://colab.research.google.com/github/DiyaSReddy/NumPy/blob/main/Numpy_project_2.ipynb\" target=\"_parent\"><img src=\"https://colab.research.google.com/assets/colab-badge.svg\" alt=\"Open In Colab\"/></a>"
      ]
    },
    {
      "cell_type": "code",
      "execution_count": null,
      "metadata": {
        "colab": {
          "base_uri": "https://localhost:8080/"
        },
        "id": "K4HplFfRUMTf",
        "outputId": "8a662de4-a4bd-4e39-9e59-caf16828c0e3"
      },
      "outputs": [
        {
          "output_type": "stream",
          "name": "stdout",
          "text": [
            "\n",
            "Average Temperatures: \n",
            " [30.44729318 27.31117555 26.49134017 27.93526815]\n",
            "\n",
            "Hottest day of the month:  6\n",
            "Coldest day of the month:  26\n",
            "\n",
            "Days with afternoon temp > 35°C:  [ 5 11 12 21 29]\n",
            "\n",
            "7-Day Moving Average Temperatures:  [[32.11369959 28.33073547 28.47014659 25.85820369]\n",
            " [33.15726035 29.15660687 28.01681985 26.33705628]\n",
            " [33.22214671 30.78785673 28.11016687 27.00277618]\n",
            " [31.57170214 30.54313517 29.50363839 26.53932345]\n",
            " [32.56327193 30.87671928 28.88587394 26.75654975]\n",
            " [32.60333    30.90797571 30.31620124 25.20463557]\n",
            " [33.42422825 31.74135174 27.61576028 25.06832231]\n",
            " [30.60621284 32.21693314 28.44579963 26.83803107]\n",
            " [29.12934599 31.36483123 26.44609575 25.40924648]\n",
            " [26.43337776 29.7718068  25.77664182 25.23114474]\n",
            " [28.84381003 31.2001278  24.9441417  25.58560347]\n",
            " [30.37975566 30.41055755 25.90128724 27.80482569]\n",
            " [29.69700353 27.25637412 25.96107044 28.8802397 ]\n",
            " [27.53377636 25.6269219  27.39163584 30.24839344]\n",
            " [27.83789559 26.31688517 25.45193633 28.38114368]\n",
            " [30.25483891 26.13575798 27.66317822 28.13353576]\n",
            " [32.43854841 25.64608614 27.51515732 26.93234108]\n",
            " [31.22542772 23.81420286 27.67746022 27.54417076]\n",
            " [30.9506252  22.47050474 26.74528038 27.03749879]\n",
            " [30.14019989 22.34996737 24.52841049 28.52818345]\n",
            " [30.13225396 22.27407515 22.54664072 27.45947638]\n",
            " [30.10043277 21.19956273 21.89426538 28.33876278]\n",
            " [29.49953781 22.68653213 22.27434515 29.93391276]\n",
            " [29.89969427 24.03031387 24.14019576 31.67984121]]\n"
          ]
        }
      ],
      "source": [
        "import numpy as np\n",
        "\n",
        "# Set the random seed for reproducibility\n",
        "np.random.seed(26)\n",
        "\n",
        "# 1. Generate a NumPy array (30×4) representing daily temperatures (in °C) for a month,\n",
        "# with four columns: Morning, Afternoon, Evening, and Night temperatures\n",
        "temp = np.random.uniform(15, 40, size=(30, 4))\n",
        "\n",
        "# 2. Average temperature for each time of the day\n",
        "avg_temp = np.mean(temp, axis=0)\n",
        "print(\"\\nAverage Temperatures: \\n\", avg_temp)\n",
        "\n",
        "# 3. Hottest and coldest days of the month\n",
        "hottest_day = np.argmax(np.max(temp, axis=1)) + 1\n",
        "coldest_day = np.argmin(np.min(temp, axis=1)) + 1\n",
        "print(\"\\nHottest day of the month: \", hottest_day)\n",
        "print(\"Coldest day of the month: \", coldest_day)\n",
        "\n",
        "# 4. Days when the afternoon temperature exceeded 35°C\n",
        "afternoon = np.where(temp[:, 1] > 35)[0] + 1\n",
        "print(\"\\nDays with afternoon temp > 35°C: \", afternoon)\n",
        "\n",
        "# Moving average of temperatures over a 7-day window\n",
        "moving_avg_temperatures = np.array([np.mean(temp[i:i+7], axis=0) for i in range(24)])\n",
        "print(\"\\n7-Day Moving Average Temperatures: \", moving_avg_temperatures)\n"
      ]
    }
  ]
}