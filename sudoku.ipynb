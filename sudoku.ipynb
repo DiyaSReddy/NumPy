{
  "nbformat": 4,
  "nbformat_minor": 0,
  "metadata": {
    "colab": {
      "provenance": [],
      "authorship_tag": "ABX9TyNJ394fJmSjQBEcZqX9NHM5",
      "include_colab_link": true
    },
    "kernelspec": {
      "name": "python3",
      "display_name": "Python 3"
    },
    "language_info": {
      "name": "python"
    }
  },
  "cells": [
    {
      "cell_type": "markdown",
      "metadata": {
        "id": "view-in-github",
        "colab_type": "text"
      },
      "source": [
        "<a href=\"https://colab.research.google.com/github/DiyaSReddy/NumPy/blob/main/sudoku.ipynb\" target=\"_parent\"><img src=\"https://colab.research.google.com/assets/colab-badge.svg\" alt=\"Open In Colab\"/></a>"
      ]
    },
    {
      "cell_type": "code",
      "execution_count": null,
      "metadata": {
        "id": "TF5OFckNV8I-"
      },
      "outputs": [],
      "source": [
        "import numpy as np"
      ]
    },
    {
      "cell_type": "code",
      "source": [
        "def validate(board, i_row, j_col, num):\n",
        "\n",
        "    # row validation\n",
        "    if num in board[i_row, :]:\n",
        "        return False\n",
        "\n",
        "    # column validation\n",
        "    if num in board[:, j_col]:\n",
        "        return False\n",
        "\n",
        "    # 3x3 subgrid validation\n",
        "    start_row, start_col = (i_row // 3) * 3, (j_col // 3) * 3\n",
        "    if num in board[start_row:start_row+3, start_col:start_col+3]:\n",
        "        return False\n",
        "\n",
        "    return True"
      ],
      "metadata": {
        "id": "4OOTjTwLWbhl"
      },
      "execution_count": null,
      "outputs": []
    },
    {
      "cell_type": "code",
      "source": [
        "def sudoku(board):\n",
        "    # arrays of cells with 0\n",
        "    zeroes_array = np.argwhere(board == 0)\n",
        "\n",
        "    # Solved\n",
        "    if zeroes_array.size == 0:\n",
        "        return True\n",
        "\n",
        "    # index of the first 0 in the board\n",
        "    i_row, j_col = zeroes_array[0]\n",
        "\n",
        "    for num in range(1, 10): # 10 is exclusive\n",
        "\n",
        "        if validate(board, i_row, j_col, num):\n",
        "            # Replace the 0 with the number\n",
        "            board[i_row, j_col] = num\n",
        "\n",
        "            # recursive function to add all the numbers anf fill the complete board\n",
        "            if sudoku(board):\n",
        "                return True\n",
        "\n",
        "            # backtracking\n",
        "            board[i_row, j_col] = 0\n",
        "\n",
        "    return False"
      ],
      "metadata": {
        "id": "xFQWQzguWerT"
      },
      "execution_count": null,
      "outputs": []
    },
    {
      "cell_type": "code",
      "source": [
        "board = np.array([\n",
        "    [0, 4, 3, 0, 5, 0, 2, 0, 7],\n",
        "    [0, 2, 0, 0, 0, 4, 0, 0, 6],\n",
        "    [7, 0, 0, 0, 0, 0, 0, 0, 0],\n",
        "    [0, 0, 7, 0, 1, 0, 6, 0, 0],\n",
        "    [0, 1, 0, 6, 0, 8, 0, 7, 0],\n",
        "    [0, 0, 6, 0, 9, 0, 8, 0, 0],\n",
        "    [0, 0, 0, 0, 0, 0, 0, 0, 9],\n",
        "    [5, 0, 0, 9, 0, 0, 0, 8, 0],\n",
        "    [6, 0, 1, 0, 7, 0, 5, 2, 0]\n",
        "])\n",
        "\n",
        "if sudoku(board):\n",
        "    print(\"Final Sudoku:\")\n",
        "    print(board)\n",
        "else:\n",
        "    print(\"No solution found!\")"
      ],
      "metadata": {
        "colab": {
          "base_uri": "https://localhost:8080/"
        },
        "id": "oD741A6HWh_b",
        "outputId": "9d4c2807-e4d2-4c50-aa47-c21c91c3fbac"
      },
      "execution_count": null,
      "outputs": [
        {
          "output_type": "stream",
          "name": "stdout",
          "text": [
            "Final Sudoku:\n",
            "[[8 4 3 1 5 6 2 9 7]\n",
            " [1 2 9 7 8 4 3 5 6]\n",
            " [7 6 5 3 2 9 4 1 8]\n",
            " [9 8 7 4 1 5 6 3 2]\n",
            " [4 1 2 6 3 8 9 7 5]\n",
            " [3 5 6 2 9 7 8 4 1]\n",
            " [2 3 8 5 4 1 7 6 9]\n",
            " [5 7 4 9 6 2 1 8 3]\n",
            " [6 9 1 8 7 3 5 2 4]]\n"
          ]
        }
      ]
    }
  ]
}