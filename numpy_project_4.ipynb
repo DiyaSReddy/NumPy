{
  "nbformat": 4,
  "nbformat_minor": 0,
  "metadata": {
    "colab": {
      "provenance": [],
      "authorship_tag": "ABX9TyOcZwnpfppAAbvmT68oI9sI",
      "include_colab_link": true
    },
    "kernelspec": {
      "name": "python3",
      "display_name": "Python 3"
    },
    "language_info": {
      "name": "python"
    }
  },
  "cells": [
    {
      "cell_type": "markdown",
      "metadata": {
        "id": "view-in-github",
        "colab_type": "text"
      },
      "source": [
        "<a href=\"https://colab.research.google.com/github/DiyaSReddy/NumPy/blob/main/numpy_project_4.ipynb\" target=\"_parent\"><img src=\"https://colab.research.google.com/assets/colab-badge.svg\" alt=\"Open In Colab\"/></a>"
      ]
    },
    {
      "cell_type": "code",
      "execution_count": null,
      "metadata": {
        "colab": {
          "base_uri": "https://localhost:8080/"
        },
        "id": "giBSOHgRUL6G",
        "outputId": "b598aea4-f26f-4aec-a0e3-32ee7f3bd84e"
      },
      "outputs": [
        {
          "output_type": "stream",
          "name": "stdout",
          "text": [
            "Maximum Stock Price: ₹ 1075.3484650401135\n",
            "Minimum Stock Price: ₹ 989.3717767886244\n",
            "Average Stock Price: ₹ 1041.642394445109\n",
            "\n",
            "Days where the stock price dropped by more than ₹5:  [ 6 10 11 24 38 43 48 51 52 53 57 59 61 62 63 74 90 91 94 99]\n",
            "\n",
            "5-Day Moving Average:  [1000.46292123 1003.4845488  1006.02612212 1007.56815051 1008.02175682\n",
            " 1008.27496717 1005.82573724 1003.34380273 1001.93915227  999.68079566\n",
            "  997.50971155  995.63759123  994.22056797  994.49786171  997.29695035\n",
            "  999.32497888 1002.21620507 1006.5481707  1009.17703188 1012.13599134\n",
            " 1013.39018128 1016.60376835 1019.68076783 1023.49319455 1024.50291996\n",
            " 1027.34524338 1029.28874215 1031.31947571 1034.16146228 1039.37811554\n",
            " 1044.77292634 1048.34776489 1052.0875136  1053.24205353 1051.34739232\n",
            " 1049.15371479 1047.41370558 1045.18494212 1045.26556327 1045.22734019\n",
            " 1044.32681952 1045.68454795 1048.48852031 1051.74978494 1054.82799952\n",
            " 1060.02306613 1064.4035444  1066.05461988 1064.24628841 1062.97932068\n",
            " 1061.1890105  1060.13039047 1061.27563682 1062.75206115 1065.53148396\n",
            " 1065.62582205 1064.00153034 1059.75034709 1055.54722489 1049.72869618\n",
            " 1046.11527203 1044.21656198 1043.88785471 1044.11191835 1045.9364325\n",
            " 1049.19192546 1051.1728002  1052.50711421 1056.39705964 1061.383578\n",
            " 1062.56339573 1065.15178159 1067.68957809 1067.43588331 1065.30729609\n",
            " 1065.58422478 1063.86712153 1061.82753188 1062.46017305 1063.47702742\n",
            " 1063.00419517 1064.03718525 1065.8296978  1066.64095769 1067.62873034\n",
            " 1070.52668582 1070.21729338 1068.32957347 1064.82502917 1061.95382469\n",
            " 1056.15515908 1051.63947608 1049.57527624 1049.97961442 1048.96308766\n",
            " 1048.30766802]\n"
          ]
        }
      ],
      "source": [
        "import numpy as np\n",
        "# Set seed for reproducibility\n",
        "np.random.seed(26)\n",
        "\n",
        "# Creating an array of length 100, initialized with zeros.\n",
        "# Setting the first day's price to ₹1000.\n",
        "price_array = np.zeros(100)\n",
        "price_array[0] = 1000\n",
        "\n",
        "# Generating 99 random values between -10 and +10 to simulate daily price changes.\n",
        "daily_changes = np.random.uniform(-10, 10, 100 - 1)\n",
        "\n",
        "# Calculating daily stock prices\n",
        "price_array[1:] = price_array[0] + np.cumsum(daily_changes)\n",
        "\n",
        "max_price = np.max(price_array)\n",
        "min_price = np.min(price_array)\n",
        "avg_price = np.mean(price_array)\n",
        "print(\"Maximum Stock Price: ₹\", max_price)\n",
        "print(\"Minimum Stock Price: ₹\", min_price)\n",
        "print(\"Average Stock Price: ₹\", avg_price)\n",
        "\n",
        "# Days where the stock price dropped by more than ₹5\n",
        "drop = np.where(np.diff(price_array) < -5)[0] + 1  # Adjust index for diff()\n",
        "print(\"\\nDays where the stock price dropped by more than ₹5: \", drop)\n",
        "\n",
        "# 5-day moving average using convolution\n",
        "moving_avg = np.convolve(price_array, np.ones(5)/5, mode='valid')\n",
        "print(\"\\n5-Day Moving Average: \", moving_avg)"
      ]
    }
  ]
}