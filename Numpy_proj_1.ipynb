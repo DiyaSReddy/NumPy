{
  "nbformat": 4,
  "nbformat_minor": 0,
  "metadata": {
    "colab": {
      "provenance": [],
      "authorship_tag": "ABX9TyPZObpdlkOb/A82NeQdBWW6",
      "include_colab_link": true
    },
    "kernelspec": {
      "name": "python3",
      "display_name": "Python 3"
    },
    "language_info": {
      "name": "python"
    }
  },
  "cells": [
    {
      "cell_type": "markdown",
      "metadata": {
        "id": "view-in-github",
        "colab_type": "text"
      },
      "source": [
        "<a href=\"https://colab.research.google.com/github/DiyaSReddy/NumPy/blob/main/Numpy_proj_1.ipynb\" target=\"_parent\"><img src=\"https://colab.research.google.com/assets/colab-badge.svg\" alt=\"Open In Colab\"/></a>"
      ]
    },
    {
      "cell_type": "code",
      "execution_count": null,
      "metadata": {
        "colab": {
          "base_uri": "https://localhost:8080/"
        },
        "id": "LdUAQv5-NKPq",
        "outputId": "9fc4c820-eb69-459c-d99b-d1de54362581"
      },
      "outputs": [
        {
          "output_type": "stream",
          "name": "stdout",
          "text": [
            "Original Matrix:\n",
            " [[39 29 15 43  8]\n",
            " [21 39 19 23 11]\n",
            " [11 24 36 40 24]\n",
            " [ 3 22  2 24 44]\n",
            " [30 38  2 21 33]]\n",
            "\n",
            "Matrix with even numbers replaced by -1:\n",
            " [[39 29 15 43 -1]\n",
            " [21 39 19 23 11]\n",
            " [11 -1 -1 -1 -1]\n",
            " [ 3 -1 -1 -1 -1]\n",
            " [-1 -1 -1 21 33]]\n",
            "\n",
            "Sum of each row: [134 113 135  95 124]\n",
            "\n",
            "Dot product of matrix with its transpose:\n",
            " [[4500 3312 3577 2169 3469]\n",
            " [3312 2973 3035 1995 2996]\n",
            " [3577 3035 4169 2649 2946]\n",
            " [2169 1995 2649 3009 2886]\n",
            " [3469 2996 2946 2886 3878]]\n",
            "\n",
            "Index of maximum element: (3, 4)\n"
          ]
        }
      ],
      "source": [
        "import numpy as np\n",
        "\n",
        "# Task 1: Create a 5×5 NumPy array filled with random integers between 1 and 50\n",
        "np.random.seed(42)  # For reproducibility\n",
        "matrix = np.random.randint(1, 51, (5, 5))\n",
        "print(\"Original Matrix:\\n\", matrix)\n",
        "\n",
        "# Task 2: Replace all even numbers with -1 without using loops\n",
        "matrix_even_replaced = np.where(matrix % 2 == 0, -1, matrix)\n",
        "print(\"\\nMatrix with even numbers replaced by -1:\\n\", matrix_even_replaced)\n",
        "\n",
        "# Task 3: Compute the sum of each row and store it in a new array\n",
        "row_sums = np.sum(matrix, axis=1)\n",
        "print(\"\\nSum of each row:\", row_sums)\n",
        "\n",
        "# Task 4: Compute the dot product of the matrix with its transpose\n",
        "dot_product = np.dot(matrix, matrix.T)\n",
        "print(\"\\nDot product of matrix with its transpose:\\n\", dot_product)\n",
        "\n",
        "# Task 5: Find the index of the maximum element in the matrix\n",
        "max_index = np.unravel_index(np.argmax(matrix), matrix.shape)\n",
        "print(\"\\nIndex of maximum element:\", max_index)"
      ]
    }
  ]
}